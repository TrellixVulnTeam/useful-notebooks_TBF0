{
 "cells": [
  {
   "cell_type": "markdown",
   "metadata": {},
   "source": [
    "# Introduction To Python"
   ]
  },
  {
   "cell_type": "markdown",
   "metadata": {},
   "source": [
    "This is a collection of various statements, features, etc. of IPython and the Python language.  Much of this content is taken from other notebooks so I can't take credit for it, I just extracted the highlights I felt were most useful.\n",
    "\n",
    "Code cells are run by pressing shift-enter or using the play button in the toolbar."
   ]
  },
  {
   "cell_type": "code",
   "execution_count": 1,
   "metadata": {
    "collapsed": false,
    "execution": {
     "iopub.execute_input": "2022-07-02T05:04:23.059336Z",
     "iopub.status.busy": "2022-07-02T05:04:23.059336Z",
     "iopub.status.idle": "2022-07-02T05:04:23.073631Z",
     "shell.execute_reply": "2022-07-02T05:04:23.073427Z",
     "shell.execute_reply.started": "2022-07-02T05:04:23.059336Z"
    },
    "jupyter": {
     "outputs_hidden": false
    },
    "tags": []
   },
   "outputs": [],
   "source": [
    "a = 10"
   ]
  },
  {
   "cell_type": "code",
   "execution_count": 2,
   "metadata": {
    "collapsed": false,
    "execution": {
     "iopub.execute_input": "2022-07-02T05:04:23.074644Z",
     "iopub.status.busy": "2022-07-02T05:04:23.074644Z",
     "iopub.status.idle": "2022-07-02T05:04:23.088740Z",
     "shell.execute_reply": "2022-07-02T05:04:23.088740Z",
     "shell.execute_reply.started": "2022-07-02T05:04:23.074644Z"
    },
    "jupyter": {
     "outputs_hidden": false
    }
   },
   "outputs": [
    {
     "name": "stdout",
     "output_type": "stream",
     "text": [
      "10\n"
     ]
    }
   ],
   "source": [
    "print(a)"
   ]
  },
  {
   "cell_type": "code",
   "execution_count": 3,
   "metadata": {
    "collapsed": false,
    "execution": {
     "iopub.execute_input": "2022-07-02T05:04:23.089920Z",
     "iopub.status.busy": "2022-07-02T05:04:23.089920Z",
     "iopub.status.idle": "2022-07-02T05:04:23.104455Z",
     "shell.execute_reply": "2022-07-02T05:04:23.103919Z",
     "shell.execute_reply.started": "2022-07-02T05:04:23.089920Z"
    },
    "jupyter": {
     "outputs_hidden": false
    }
   },
   "outputs": [],
   "source": [
    "import math"
   ]
  },
  {
   "cell_type": "code",
   "execution_count": 4,
   "metadata": {
    "collapsed": false,
    "execution": {
     "iopub.execute_input": "2022-07-02T05:04:23.105483Z",
     "iopub.status.busy": "2022-07-02T05:04:23.105483Z",
     "iopub.status.idle": "2022-07-02T05:04:23.119480Z",
     "shell.execute_reply": "2022-07-02T05:04:23.119480Z",
     "shell.execute_reply.started": "2022-07-02T05:04:23.105483Z"
    },
    "jupyter": {
     "outputs_hidden": false
    }
   },
   "outputs": [
    {
     "name": "stdout",
     "output_type": "stream",
     "text": [
      "1.0\n"
     ]
    }
   ],
   "source": [
    "x = math.cos(2 * math.pi)\n",
    "print(x)"
   ]
  },
  {
   "cell_type": "markdown",
   "metadata": {},
   "source": [
    "Import the whole module into the current namespace instead."
   ]
  },
  {
   "cell_type": "code",
   "execution_count": 5,
   "metadata": {
    "collapsed": false,
    "execution": {
     "iopub.execute_input": "2022-07-02T05:04:23.120480Z",
     "iopub.status.busy": "2022-07-02T05:04:23.120480Z",
     "iopub.status.idle": "2022-07-02T05:04:23.135480Z",
     "shell.execute_reply": "2022-07-02T05:04:23.135480Z",
     "shell.execute_reply.started": "2022-07-02T05:04:23.120480Z"
    },
    "jupyter": {
     "outputs_hidden": false
    }
   },
   "outputs": [
    {
     "name": "stdout",
     "output_type": "stream",
     "text": [
      "1.0\n"
     ]
    }
   ],
   "source": [
    "from math import *\n",
    "x = cos(2 * pi)\n",
    "print(x)"
   ]
  },
  {
   "cell_type": "markdown",
   "metadata": {},
   "source": [
    "Several ways to look at documentation for a module."
   ]
  },
  {
   "cell_type": "code",
   "execution_count": 6,
   "metadata": {
    "collapsed": false,
    "execution": {
     "iopub.execute_input": "2022-07-02T05:04:23.136481Z",
     "iopub.status.busy": "2022-07-02T05:04:23.136481Z",
     "iopub.status.idle": "2022-07-02T05:04:23.151761Z",
     "shell.execute_reply": "2022-07-02T05:04:23.151481Z",
     "shell.execute_reply.started": "2022-07-02T05:04:23.136481Z"
    },
    "jupyter": {
     "outputs_hidden": false
    }
   },
   "outputs": [
    {
     "name": "stdout",
     "output_type": "stream",
     "text": [
      "['__doc__', '__loader__', '__name__', '__package__', '__spec__', 'acos', 'acosh', 'asin', 'asinh', 'atan', 'atan2', 'atanh', 'ceil', 'comb', 'copysign', 'cos', 'cosh', 'degrees', 'dist', 'e', 'erf', 'erfc', 'exp', 'expm1', 'fabs', 'factorial', 'floor', 'fmod', 'frexp', 'fsum', 'gamma', 'gcd', 'hypot', 'inf', 'isclose', 'isfinite', 'isinf', 'isnan', 'isqrt', 'lcm', 'ldexp', 'lgamma', 'log', 'log10', 'log1p', 'log2', 'modf', 'nan', 'nextafter', 'perm', 'pi', 'pow', 'prod', 'radians', 'remainder', 'sin', 'sinh', 'sqrt', 'tan', 'tanh', 'tau', 'trunc', 'ulp']\n"
     ]
    }
   ],
   "source": [
    "print(dir(math))"
   ]
  },
  {
   "cell_type": "code",
   "execution_count": 7,
   "metadata": {
    "collapsed": false,
    "execution": {
     "iopub.execute_input": "2022-07-02T05:04:23.152774Z",
     "iopub.status.busy": "2022-07-02T05:04:23.152774Z",
     "iopub.status.idle": "2022-07-02T05:04:23.167082Z",
     "shell.execute_reply": "2022-07-02T05:04:23.166835Z",
     "shell.execute_reply.started": "2022-07-02T05:04:23.152774Z"
    },
    "jupyter": {
     "outputs_hidden": false
    }
   },
   "outputs": [
    {
     "name": "stdout",
     "output_type": "stream",
     "text": [
      "Help on built-in function cos in module math:\n",
      "\n",
      "cos(x, /)\n",
      "    Return the cosine of x (measured in radians).\n",
      "\n"
     ]
    }
   ],
   "source": [
    "help(math.cos)"
   ]
  },
  {
   "cell_type": "markdown",
   "metadata": {},
   "source": [
    "### Variables"
   ]
  },
  {
   "cell_type": "code",
   "execution_count": 8,
   "metadata": {
    "collapsed": false,
    "execution": {
     "iopub.execute_input": "2022-07-02T05:04:23.168093Z",
     "iopub.status.busy": "2022-07-02T05:04:23.167082Z",
     "iopub.status.idle": "2022-07-02T05:04:23.182171Z",
     "shell.execute_reply": "2022-07-02T05:04:23.182171Z",
     "shell.execute_reply.started": "2022-07-02T05:04:23.168093Z"
    },
    "jupyter": {
     "outputs_hidden": false
    }
   },
   "outputs": [
    {
     "data": {
      "text/plain": [
       "float"
      ]
     },
     "execution_count": 8,
     "metadata": {},
     "output_type": "execute_result"
    }
   ],
   "source": [
    "x = 1.0\n",
    "type(x)"
   ]
  },
  {
   "cell_type": "code",
   "execution_count": 9,
   "metadata": {
    "collapsed": false,
    "execution": {
     "iopub.execute_input": "2022-07-02T05:04:23.183244Z",
     "iopub.status.busy": "2022-07-02T05:04:23.183244Z",
     "iopub.status.idle": "2022-07-02T05:04:23.197298Z",
     "shell.execute_reply": "2022-07-02T05:04:23.197298Z",
     "shell.execute_reply.started": "2022-07-02T05:04:23.183244Z"
    },
    "jupyter": {
     "outputs_hidden": false
    }
   },
   "outputs": [
    {
     "data": {
      "text/plain": [
       "int"
      ]
     },
     "execution_count": 9,
     "metadata": {},
     "output_type": "execute_result"
    }
   ],
   "source": [
    "# dynamically typed\n",
    "x = 1\n",
    "type(x)"
   ]
  },
  {
   "cell_type": "markdown",
   "metadata": {},
   "source": [
    "### Operators"
   ]
  },
  {
   "cell_type": "code",
   "execution_count": 10,
   "metadata": {
    "collapsed": false,
    "execution": {
     "iopub.execute_input": "2022-07-02T05:04:23.198369Z",
     "iopub.status.busy": "2022-07-02T05:04:23.198369Z",
     "iopub.status.idle": "2022-07-02T05:04:23.212504Z",
     "shell.execute_reply": "2022-07-02T05:04:23.212370Z",
     "shell.execute_reply.started": "2022-07-02T05:04:23.198369Z"
    },
    "jupyter": {
     "outputs_hidden": false
    }
   },
   "outputs": [
    {
     "data": {
      "text/plain": [
       "(3, -1, 2, 0.5)"
      ]
     },
     "execution_count": 10,
     "metadata": {},
     "output_type": "execute_result"
    }
   ],
   "source": [
    "1 + 2, 1 - 2, 1 * 2, 1 / 2"
   ]
  },
  {
   "cell_type": "code",
   "execution_count": 11,
   "metadata": {
    "collapsed": false,
    "execution": {
     "iopub.execute_input": "2022-07-02T05:04:23.213521Z",
     "iopub.status.busy": "2022-07-02T05:04:23.213521Z",
     "iopub.status.idle": "2022-07-02T05:04:23.227518Z",
     "shell.execute_reply": "2022-07-02T05:04:23.227518Z",
     "shell.execute_reply.started": "2022-07-02T05:04:23.213521Z"
    },
    "jupyter": {
     "outputs_hidden": false
    }
   },
   "outputs": [
    {
     "data": {
      "text/plain": [
       "1.0"
      ]
     },
     "execution_count": 11,
     "metadata": {},
     "output_type": "execute_result"
    }
   ],
   "source": [
    "# integer division of float numbers\n",
    "3.0 // 2.0"
   ]
  },
  {
   "cell_type": "code",
   "execution_count": 12,
   "metadata": {
    "collapsed": false,
    "execution": {
     "iopub.execute_input": "2022-07-02T05:04:23.228520Z",
     "iopub.status.busy": "2022-07-02T05:04:23.228520Z",
     "iopub.status.idle": "2022-07-02T05:04:23.242519Z",
     "shell.execute_reply": "2022-07-02T05:04:23.242519Z",
     "shell.execute_reply.started": "2022-07-02T05:04:23.228520Z"
    },
    "jupyter": {
     "outputs_hidden": false
    }
   },
   "outputs": [
    {
     "data": {
      "text/plain": [
       "4"
      ]
     },
     "execution_count": 12,
     "metadata": {},
     "output_type": "execute_result"
    }
   ],
   "source": [
    "# power operator\n",
    "2 ** 2"
   ]
  },
  {
   "cell_type": "code",
   "execution_count": 13,
   "metadata": {
    "collapsed": false,
    "execution": {
     "iopub.execute_input": "2022-07-02T05:04:23.243520Z",
     "iopub.status.busy": "2022-07-02T05:04:23.243520Z",
     "iopub.status.idle": "2022-07-02T05:04:23.258520Z",
     "shell.execute_reply": "2022-07-02T05:04:23.258520Z",
     "shell.execute_reply.started": "2022-07-02T05:04:23.243520Z"
    },
    "jupyter": {
     "outputs_hidden": false
    }
   },
   "outputs": [
    {
     "data": {
      "text/plain": [
       "False"
      ]
     },
     "execution_count": 13,
     "metadata": {},
     "output_type": "execute_result"
    }
   ],
   "source": [
    "True and False"
   ]
  },
  {
   "cell_type": "code",
   "execution_count": 14,
   "metadata": {
    "collapsed": false,
    "execution": {
     "iopub.execute_input": "2022-07-02T05:04:23.259519Z",
     "iopub.status.busy": "2022-07-02T05:04:23.259519Z",
     "iopub.status.idle": "2022-07-02T05:04:23.274390Z",
     "shell.execute_reply": "2022-07-02T05:04:23.274390Z",
     "shell.execute_reply.started": "2022-07-02T05:04:23.259519Z"
    },
    "jupyter": {
     "outputs_hidden": false
    }
   },
   "outputs": [
    {
     "data": {
      "text/plain": [
       "True"
      ]
     },
     "execution_count": 14,
     "metadata": {},
     "output_type": "execute_result"
    }
   ],
   "source": [
    "not False"
   ]
  },
  {
   "cell_type": "code",
   "execution_count": 15,
   "metadata": {
    "collapsed": false,
    "execution": {
     "iopub.execute_input": "2022-07-02T05:04:23.275391Z",
     "iopub.status.busy": "2022-07-02T05:04:23.275391Z",
     "iopub.status.idle": "2022-07-02T05:04:23.290391Z",
     "shell.execute_reply": "2022-07-02T05:04:23.290391Z",
     "shell.execute_reply.started": "2022-07-02T05:04:23.275391Z"
    },
    "jupyter": {
     "outputs_hidden": false
    }
   },
   "outputs": [
    {
     "data": {
      "text/plain": [
       "True"
      ]
     },
     "execution_count": 15,
     "metadata": {},
     "output_type": "execute_result"
    }
   ],
   "source": [
    "True or False"
   ]
  },
  {
   "cell_type": "code",
   "execution_count": 16,
   "metadata": {
    "collapsed": false,
    "execution": {
     "iopub.execute_input": "2022-07-02T05:04:23.291394Z",
     "iopub.status.busy": "2022-07-02T05:04:23.291394Z",
     "iopub.status.idle": "2022-07-02T05:04:23.305926Z",
     "shell.execute_reply": "2022-07-02T05:04:23.305926Z",
     "shell.execute_reply.started": "2022-07-02T05:04:23.291394Z"
    },
    "jupyter": {
     "outputs_hidden": false
    }
   },
   "outputs": [
    {
     "data": {
      "text/plain": [
       "(True, False, False, False, True, True)"
      ]
     },
     "execution_count": 16,
     "metadata": {},
     "output_type": "execute_result"
    }
   ],
   "source": [
    "2 > 1, 2 < 1, 2 > 2, 2 < 2, 2 >= 2, 2 <= 2"
   ]
  },
  {
   "cell_type": "code",
   "execution_count": 17,
   "metadata": {
    "collapsed": false,
    "execution": {
     "iopub.execute_input": "2022-07-02T05:04:23.306927Z",
     "iopub.status.busy": "2022-07-02T05:04:23.306927Z",
     "iopub.status.idle": "2022-07-02T05:04:23.321995Z",
     "shell.execute_reply": "2022-07-02T05:04:23.321995Z",
     "shell.execute_reply.started": "2022-07-02T05:04:23.306927Z"
    },
    "jupyter": {
     "outputs_hidden": false
    }
   },
   "outputs": [
    {
     "data": {
      "text/plain": [
       "True"
      ]
     },
     "execution_count": 17,
     "metadata": {},
     "output_type": "execute_result"
    }
   ],
   "source": [
    "# equality\n",
    "[1,2] == [1,2]"
   ]
  },
  {
   "cell_type": "markdown",
   "metadata": {},
   "source": [
    "### Strings"
   ]
  },
  {
   "cell_type": "code",
   "execution_count": 18,
   "metadata": {
    "collapsed": false,
    "execution": {
     "iopub.execute_input": "2022-07-02T05:04:23.323216Z",
     "iopub.status.busy": "2022-07-02T05:04:23.323216Z",
     "iopub.status.idle": "2022-07-02T05:04:23.337214Z",
     "shell.execute_reply": "2022-07-02T05:04:23.337214Z",
     "shell.execute_reply.started": "2022-07-02T05:04:23.323216Z"
    },
    "jupyter": {
     "outputs_hidden": false
    }
   },
   "outputs": [
    {
     "data": {
      "text/plain": [
       "str"
      ]
     },
     "execution_count": 18,
     "metadata": {},
     "output_type": "execute_result"
    }
   ],
   "source": [
    "s = \"Hello world\"\n",
    "type(s)"
   ]
  },
  {
   "cell_type": "code",
   "execution_count": 19,
   "metadata": {
    "collapsed": false,
    "execution": {
     "iopub.execute_input": "2022-07-02T05:04:23.338126Z",
     "iopub.status.busy": "2022-07-02T05:04:23.338126Z",
     "iopub.status.idle": "2022-07-02T05:04:23.353180Z",
     "shell.execute_reply": "2022-07-02T05:04:23.353180Z",
     "shell.execute_reply.started": "2022-07-02T05:04:23.338126Z"
    },
    "jupyter": {
     "outputs_hidden": false
    }
   },
   "outputs": [
    {
     "data": {
      "text/plain": [
       "11"
      ]
     },
     "execution_count": 19,
     "metadata": {},
     "output_type": "execute_result"
    }
   ],
   "source": [
    "len(s)"
   ]
  },
  {
   "cell_type": "code",
   "execution_count": 20,
   "metadata": {
    "collapsed": false,
    "execution": {
     "iopub.execute_input": "2022-07-02T05:04:23.354181Z",
     "iopub.status.busy": "2022-07-02T05:04:23.354181Z",
     "iopub.status.idle": "2022-07-02T05:04:23.369179Z",
     "shell.execute_reply": "2022-07-02T05:04:23.369179Z",
     "shell.execute_reply.started": "2022-07-02T05:04:23.354181Z"
    },
    "jupyter": {
     "outputs_hidden": false
    }
   },
   "outputs": [
    {
     "name": "stdout",
     "output_type": "stream",
     "text": [
      "Hello test\n"
     ]
    }
   ],
   "source": [
    "s2 = s.replace(\"world\", \"test\")\n",
    "print(s2)"
   ]
  },
  {
   "cell_type": "code",
   "execution_count": 21,
   "metadata": {
    "collapsed": false,
    "execution": {
     "iopub.execute_input": "2022-07-02T05:04:23.370179Z",
     "iopub.status.busy": "2022-07-02T05:04:23.370179Z",
     "iopub.status.idle": "2022-07-02T05:04:23.384179Z",
     "shell.execute_reply": "2022-07-02T05:04:23.384179Z",
     "shell.execute_reply.started": "2022-07-02T05:04:23.370179Z"
    },
    "jupyter": {
     "outputs_hidden": false
    }
   },
   "outputs": [
    {
     "data": {
      "text/plain": [
       "'H'"
      ]
     },
     "execution_count": 21,
     "metadata": {},
     "output_type": "execute_result"
    }
   ],
   "source": [
    "s[0]"
   ]
  },
  {
   "cell_type": "code",
   "execution_count": 22,
   "metadata": {
    "collapsed": false,
    "execution": {
     "iopub.execute_input": "2022-07-02T05:04:23.386858Z",
     "iopub.status.busy": "2022-07-02T05:04:23.386858Z",
     "iopub.status.idle": "2022-07-02T05:04:23.399855Z",
     "shell.execute_reply": "2022-07-02T05:04:23.399855Z",
     "shell.execute_reply.started": "2022-07-02T05:04:23.386858Z"
    },
    "jupyter": {
     "outputs_hidden": false
    }
   },
   "outputs": [
    {
     "data": {
      "text/plain": [
       "'Hello'"
      ]
     },
     "execution_count": 22,
     "metadata": {},
     "output_type": "execute_result"
    }
   ],
   "source": [
    "s[0:5]"
   ]
  },
  {
   "cell_type": "code",
   "execution_count": 23,
   "metadata": {
    "collapsed": false,
    "execution": {
     "iopub.execute_input": "2022-07-02T05:04:23.400856Z",
     "iopub.status.busy": "2022-07-02T05:04:23.400856Z",
     "iopub.status.idle": "2022-07-02T05:04:23.415738Z",
     "shell.execute_reply": "2022-07-02T05:04:23.415662Z",
     "shell.execute_reply.started": "2022-07-02T05:04:23.400856Z"
    },
    "jupyter": {
     "outputs_hidden": false
    }
   },
   "outputs": [
    {
     "data": {
      "text/plain": [
       "'world'"
      ]
     },
     "execution_count": 23,
     "metadata": {},
     "output_type": "execute_result"
    }
   ],
   "source": [
    "s[6:]"
   ]
  },
  {
   "cell_type": "code",
   "execution_count": 24,
   "metadata": {
    "collapsed": false,
    "execution": {
     "iopub.execute_input": "2022-07-02T05:04:23.416784Z",
     "iopub.status.busy": "2022-07-02T05:04:23.416784Z",
     "iopub.status.idle": "2022-07-02T05:04:23.430784Z",
     "shell.execute_reply": "2022-07-02T05:04:23.430784Z",
     "shell.execute_reply.started": "2022-07-02T05:04:23.416784Z"
    },
    "jupyter": {
     "outputs_hidden": false
    }
   },
   "outputs": [
    {
     "data": {
      "text/plain": [
       "'Hello world'"
      ]
     },
     "execution_count": 24,
     "metadata": {},
     "output_type": "execute_result"
    }
   ],
   "source": [
    "s[:]"
   ]
  },
  {
   "cell_type": "code",
   "execution_count": 25,
   "metadata": {
    "collapsed": false,
    "execution": {
     "iopub.execute_input": "2022-07-02T05:04:23.431782Z",
     "iopub.status.busy": "2022-07-02T05:04:23.431782Z",
     "iopub.status.idle": "2022-07-02T05:04:23.446783Z",
     "shell.execute_reply": "2022-07-02T05:04:23.446783Z",
     "shell.execute_reply.started": "2022-07-02T05:04:23.431782Z"
    },
    "jupyter": {
     "outputs_hidden": false
    }
   },
   "outputs": [
    {
     "data": {
      "text/plain": [
       "'Hlowrd'"
      ]
     },
     "execution_count": 25,
     "metadata": {},
     "output_type": "execute_result"
    }
   ],
   "source": [
    "# define step size of 2\n",
    "s[::2]"
   ]
  },
  {
   "cell_type": "code",
   "execution_count": 26,
   "metadata": {
    "collapsed": false,
    "execution": {
     "iopub.execute_input": "2022-07-02T05:04:23.447783Z",
     "iopub.status.busy": "2022-07-02T05:04:23.447783Z",
     "iopub.status.idle": "2022-07-02T05:04:23.462153Z",
     "shell.execute_reply": "2022-07-02T05:04:23.462153Z",
     "shell.execute_reply.started": "2022-07-02T05:04:23.447783Z"
    },
    "jupyter": {
     "outputs_hidden": false
    }
   },
   "outputs": [
    {
     "name": "stdout",
     "output_type": "stream",
     "text": [
      "str1 str2 str3\n"
     ]
    }
   ],
   "source": [
    "# automatically adds a space\n",
    "print(\"str1\", \"str2\", \"str3\")"
   ]
  },
  {
   "cell_type": "code",
   "execution_count": 27,
   "metadata": {
    "collapsed": false,
    "execution": {
     "iopub.execute_input": "2022-07-02T05:04:23.463228Z",
     "iopub.status.busy": "2022-07-02T05:04:23.463228Z",
     "iopub.status.idle": "2022-07-02T05:04:23.477229Z",
     "shell.execute_reply": "2022-07-02T05:04:23.477229Z",
     "shell.execute_reply.started": "2022-07-02T05:04:23.463228Z"
    },
    "jupyter": {
     "outputs_hidden": false
    }
   },
   "outputs": [
    {
     "name": "stdout",
     "output_type": "stream",
     "text": [
      "value = 1.000000\n"
     ]
    }
   ],
   "source": [
    "# C-style formatting\n",
    "print(\"value = %f\" % 1.0) "
   ]
  },
  {
   "cell_type": "code",
   "execution_count": 28,
   "metadata": {
    "collapsed": false,
    "execution": {
     "iopub.execute_input": "2022-07-02T05:04:23.478227Z",
     "iopub.status.busy": "2022-07-02T05:04:23.478227Z",
     "iopub.status.idle": "2022-07-02T05:04:23.493226Z",
     "shell.execute_reply": "2022-07-02T05:04:23.493226Z",
     "shell.execute_reply.started": "2022-07-02T05:04:23.478227Z"
    },
    "jupyter": {
     "outputs_hidden": false
    }
   },
   "outputs": [
    {
     "name": "stdout",
     "output_type": "stream",
     "text": [
      "value1 = 3.1415, value2 = 1.5\n"
     ]
    }
   ],
   "source": [
    "# alternative, more intuitive way of formatting a string \n",
    "s3 = 'value1 = {0}, value2 = {1}'.format(3.1415, 1.5)\n",
    "print(s3)"
   ]
  },
  {
   "cell_type": "code",
   "execution_count": 29,
   "metadata": {
    "execution": {
     "iopub.execute_input": "2022-07-02T05:04:23.494227Z",
     "iopub.status.busy": "2022-07-02T05:04:23.494227Z",
     "iopub.status.idle": "2022-07-02T05:04:23.509288Z",
     "shell.execute_reply": "2022-07-02T05:04:23.509288Z",
     "shell.execute_reply.started": "2022-07-02T05:04:23.494227Z"
    }
   },
   "outputs": [
    {
     "name": "stdout",
     "output_type": "stream",
     "text": [
      "value1 = 3.14159625, value2 = 1.5\n"
     ]
    }
   ],
   "source": [
    "#Even better way...\n",
    "pi = 3.14159625\n",
    "value = 1.5\n",
    "print(f'value1 = {pi}, value2 = {value}')"
   ]
  },
  {
   "cell_type": "markdown",
   "metadata": {},
   "source": [
    "### Lists"
   ]
  },
  {
   "cell_type": "code",
   "execution_count": 30,
   "metadata": {
    "collapsed": false,
    "execution": {
     "iopub.execute_input": "2022-07-02T05:04:23.510208Z",
     "iopub.status.busy": "2022-07-02T05:04:23.510208Z",
     "iopub.status.idle": "2022-07-02T05:04:23.525401Z",
     "shell.execute_reply": "2022-07-02T05:04:23.525105Z",
     "shell.execute_reply.started": "2022-07-02T05:04:23.510208Z"
    },
    "jupyter": {
     "outputs_hidden": false
    }
   },
   "outputs": [
    {
     "name": "stdout",
     "output_type": "stream",
     "text": [
      "<class 'list'>\n",
      "[1, 2, 3, 4]\n"
     ]
    }
   ],
   "source": [
    "l = [1,2,3,4]\n",
    "\n",
    "print(type(l))\n",
    "print(l)"
   ]
  },
  {
   "cell_type": "code",
   "execution_count": 31,
   "metadata": {
    "collapsed": false,
    "execution": {
     "iopub.execute_input": "2022-07-02T05:04:23.526544Z",
     "iopub.status.busy": "2022-07-02T05:04:23.526039Z",
     "iopub.status.idle": "2022-07-02T05:04:23.540433Z",
     "shell.execute_reply": "2022-07-02T05:04:23.540433Z",
     "shell.execute_reply.started": "2022-07-02T05:04:23.526544Z"
    },
    "jupyter": {
     "outputs_hidden": false
    }
   },
   "outputs": [
    {
     "name": "stdout",
     "output_type": "stream",
     "text": [
      "[2, 3]\n",
      "[1, 3]\n"
     ]
    }
   ],
   "source": [
    "print(l[1:3])\n",
    "print(l[::2])"
   ]
  },
  {
   "cell_type": "code",
   "execution_count": 32,
   "metadata": {
    "collapsed": false,
    "execution": {
     "iopub.execute_input": "2022-07-02T05:04:23.541514Z",
     "iopub.status.busy": "2022-07-02T05:04:23.541514Z",
     "iopub.status.idle": "2022-07-02T05:04:23.555515Z",
     "shell.execute_reply": "2022-07-02T05:04:23.555515Z",
     "shell.execute_reply.started": "2022-07-02T05:04:23.541514Z"
    },
    "jupyter": {
     "outputs_hidden": false
    }
   },
   "outputs": [
    {
     "data": {
      "text/plain": [
       "1"
      ]
     },
     "execution_count": 32,
     "metadata": {},
     "output_type": "execute_result"
    }
   ],
   "source": [
    "l[0]"
   ]
  },
  {
   "cell_type": "code",
   "execution_count": 33,
   "metadata": {
    "collapsed": false,
    "execution": {
     "iopub.execute_input": "2022-07-02T05:04:23.556515Z",
     "iopub.status.busy": "2022-07-02T05:04:23.556515Z",
     "iopub.status.idle": "2022-07-02T05:04:23.572437Z",
     "shell.execute_reply": "2022-07-02T05:04:23.571589Z",
     "shell.execute_reply.started": "2022-07-02T05:04:23.556515Z"
    },
    "jupyter": {
     "outputs_hidden": false
    }
   },
   "outputs": [
    {
     "name": "stdout",
     "output_type": "stream",
     "text": [
      "[1, 'a', 1.0, (1-1j)]\n"
     ]
    }
   ],
   "source": [
    "# don't have to be the same type\n",
    "l = [1, 'a', 1.0, 1-1j]\n",
    "print(l)"
   ]
  },
  {
   "cell_type": "code",
   "execution_count": 34,
   "metadata": {
    "collapsed": false,
    "execution": {
     "iopub.execute_input": "2022-07-02T05:04:23.572580Z",
     "iopub.status.busy": "2022-07-02T05:04:23.572580Z",
     "iopub.status.idle": "2022-07-02T05:04:23.586951Z",
     "shell.execute_reply": "2022-07-02T05:04:23.586951Z",
     "shell.execute_reply.started": "2022-07-02T05:04:23.572580Z"
    },
    "jupyter": {
     "outputs_hidden": false
    }
   },
   "outputs": [
    {
     "data": {
      "text/plain": [
       "[10, 12, 14, 16, 18, 20, 22, 24, 26, 28]"
      ]
     },
     "execution_count": 34,
     "metadata": {},
     "output_type": "execute_result"
    }
   ],
   "source": [
    "start = 10\n",
    "stop = 30\n",
    "step = 2\n",
    "my_range = range(start, stop, step)\n",
    "\n",
    "# consume the iterator created by range\n",
    "list(my_range)"
   ]
  },
  {
   "cell_type": "code",
   "execution_count": 35,
   "metadata": {
    "collapsed": false,
    "execution": {
     "iopub.execute_input": "2022-07-02T05:04:23.587954Z",
     "iopub.status.busy": "2022-07-02T05:04:23.587954Z",
     "iopub.status.idle": "2022-07-02T05:04:23.602951Z",
     "shell.execute_reply": "2022-07-02T05:04:23.602951Z",
     "shell.execute_reply.started": "2022-07-02T05:04:23.587954Z"
    },
    "jupyter": {
     "outputs_hidden": false
    }
   },
   "outputs": [
    {
     "name": "stdout",
     "output_type": "stream",
     "text": [
      "['A', 'd', 'd']\n"
     ]
    }
   ],
   "source": [
    "# create a new empty list\n",
    "l = []\n",
    "\n",
    "# add an elements using `append`\n",
    "l.append(\"A\")\n",
    "l.append(\"d\")\n",
    "l.append(\"d\")\n",
    "\n",
    "print(l)"
   ]
  },
  {
   "cell_type": "code",
   "execution_count": 36,
   "metadata": {
    "collapsed": false,
    "execution": {
     "iopub.execute_input": "2022-07-02T05:04:23.603953Z",
     "iopub.status.busy": "2022-07-02T05:04:23.603953Z",
     "iopub.status.idle": "2022-07-02T05:04:23.619022Z",
     "shell.execute_reply": "2022-07-02T05:04:23.619022Z",
     "shell.execute_reply.started": "2022-07-02T05:04:23.603953Z"
    },
    "jupyter": {
     "outputs_hidden": false
    }
   },
   "outputs": [
    {
     "name": "stdout",
     "output_type": "stream",
     "text": [
      "['A', 'b', 'c']\n"
     ]
    }
   ],
   "source": [
    "l[1:3] = [\"b\", \"c\"]\n",
    "print(l)"
   ]
  },
  {
   "cell_type": "code",
   "execution_count": 37,
   "metadata": {
    "collapsed": false,
    "execution": {
     "iopub.execute_input": "2022-07-02T05:04:23.620157Z",
     "iopub.status.busy": "2022-07-02T05:04:23.620157Z",
     "iopub.status.idle": "2022-07-02T05:04:23.635411Z",
     "shell.execute_reply": "2022-07-02T05:04:23.634836Z",
     "shell.execute_reply.started": "2022-07-02T05:04:23.620157Z"
    },
    "jupyter": {
     "outputs_hidden": false
    }
   },
   "outputs": [
    {
     "name": "stdout",
     "output_type": "stream",
     "text": [
      "['i', 'n', 's', 'e', 'r', 't', 'A', 'b', 'c']\n"
     ]
    }
   ],
   "source": [
    "l.insert(0, \"i\")\n",
    "l.insert(1, \"n\")\n",
    "l.insert(2, \"s\")\n",
    "l.insert(3, \"e\")\n",
    "l.insert(4, \"r\")\n",
    "l.insert(5, \"t\")\n",
    "\n",
    "print(l)"
   ]
  },
  {
   "cell_type": "code",
   "execution_count": 38,
   "metadata": {
    "collapsed": false,
    "execution": {
     "iopub.execute_input": "2022-07-02T05:04:23.635962Z",
     "iopub.status.busy": "2022-07-02T05:04:23.635962Z",
     "iopub.status.idle": "2022-07-02T05:04:23.650388Z",
     "shell.execute_reply": "2022-07-02T05:04:23.650388Z",
     "shell.execute_reply.started": "2022-07-02T05:04:23.635962Z"
    },
    "jupyter": {
     "outputs_hidden": false
    }
   },
   "outputs": [
    {
     "name": "stdout",
     "output_type": "stream",
     "text": [
      "['i', 'n', 's', 'e', 'r', 't', 'b', 'c']\n"
     ]
    }
   ],
   "source": [
    "l.remove(\"A\")\n",
    "print(l)"
   ]
  },
  {
   "cell_type": "code",
   "execution_count": 39,
   "metadata": {
    "collapsed": false,
    "execution": {
     "iopub.execute_input": "2022-07-02T05:04:23.651390Z",
     "iopub.status.busy": "2022-07-02T05:04:23.651390Z",
     "iopub.status.idle": "2022-07-02T05:04:23.666390Z",
     "shell.execute_reply": "2022-07-02T05:04:23.666390Z",
     "shell.execute_reply.started": "2022-07-02T05:04:23.651390Z"
    },
    "jupyter": {
     "outputs_hidden": false
    }
   },
   "outputs": [
    {
     "name": "stdout",
     "output_type": "stream",
     "text": [
      "['i', 'n', 's', 'e', 'r', 't']\n"
     ]
    }
   ],
   "source": [
    "del l[7]\n",
    "del l[6]\n",
    "\n",
    "print(l)"
   ]
  },
  {
   "cell_type": "markdown",
   "metadata": {},
   "source": [
    "### Tuples"
   ]
  },
  {
   "cell_type": "code",
   "execution_count": 40,
   "metadata": {
    "collapsed": false,
    "execution": {
     "iopub.execute_input": "2022-07-02T05:04:23.667391Z",
     "iopub.status.busy": "2022-07-02T05:04:23.667391Z",
     "iopub.status.idle": "2022-07-02T05:04:23.682469Z",
     "shell.execute_reply": "2022-07-02T05:04:23.682469Z",
     "shell.execute_reply.started": "2022-07-02T05:04:23.667391Z"
    },
    "jupyter": {
     "outputs_hidden": false
    }
   },
   "outputs": [
    {
     "name": "stdout",
     "output_type": "stream",
     "text": [
      "(10, 20) <class 'tuple'>\n"
     ]
    }
   ],
   "source": [
    "point = (10, 20)\n",
    "print(point, type(point))"
   ]
  },
  {
   "cell_type": "code",
   "execution_count": 41,
   "metadata": {
    "collapsed": false,
    "execution": {
     "iopub.execute_input": "2022-07-02T05:04:23.683692Z",
     "iopub.status.busy": "2022-07-02T05:04:23.683692Z",
     "iopub.status.idle": "2022-07-02T05:04:23.697689Z",
     "shell.execute_reply": "2022-07-02T05:04:23.697689Z",
     "shell.execute_reply.started": "2022-07-02T05:04:23.683692Z"
    },
    "jupyter": {
     "outputs_hidden": false
    }
   },
   "outputs": [
    {
     "name": "stdout",
     "output_type": "stream",
     "text": [
      "x = 10\n",
      "y = 20\n"
     ]
    }
   ],
   "source": [
    "# unpacking\n",
    "x, y = point\n",
    "\n",
    "print(\"x =\", x)\n",
    "print(\"y =\", y)"
   ]
  },
  {
   "cell_type": "markdown",
   "metadata": {},
   "source": [
    "### Dictionaries"
   ]
  },
  {
   "cell_type": "code",
   "execution_count": 42,
   "metadata": {
    "collapsed": false,
    "execution": {
     "iopub.execute_input": "2022-07-02T05:04:23.698691Z",
     "iopub.status.busy": "2022-07-02T05:04:23.698691Z",
     "iopub.status.idle": "2022-07-02T05:04:23.713690Z",
     "shell.execute_reply": "2022-07-02T05:04:23.713690Z",
     "shell.execute_reply.started": "2022-07-02T05:04:23.698691Z"
    },
    "jupyter": {
     "outputs_hidden": false
    }
   },
   "outputs": [
    {
     "name": "stdout",
     "output_type": "stream",
     "text": [
      "<class 'dict'>\n",
      "{'parameter1': 1.0, 'parameter2': 2.0, 'parameter3': 3.0}\n"
     ]
    }
   ],
   "source": [
    "params = {\"parameter1\" : 1.0,\n",
    "          \"parameter2\" : 2.0,\n",
    "          \"parameter3\" : 3.0,}\n",
    "\n",
    "print(type(params))\n",
    "print(params)"
   ]
  },
  {
   "cell_type": "code",
   "execution_count": 43,
   "metadata": {
    "collapsed": false,
    "execution": {
     "iopub.execute_input": "2022-07-02T05:04:23.714691Z",
     "iopub.status.busy": "2022-07-02T05:04:23.714691Z",
     "iopub.status.idle": "2022-07-02T05:04:23.729690Z",
     "shell.execute_reply": "2022-07-02T05:04:23.729690Z",
     "shell.execute_reply.started": "2022-07-02T05:04:23.714691Z"
    },
    "jupyter": {
     "outputs_hidden": false
    }
   },
   "outputs": [
    {
     "name": "stdout",
     "output_type": "stream",
     "text": [
      "parameter1 = A\n",
      "parameter2 = B\n",
      "parameter3 = 3.0\n",
      "parameter4 = D\n"
     ]
    }
   ],
   "source": [
    "params[\"parameter1\"] = \"A\"\n",
    "params[\"parameter2\"] = \"B\"\n",
    "\n",
    "# add a new entry\n",
    "params[\"parameter4\"] = \"D\"\n",
    "\n",
    "print(\"parameter1 = \" + str(params[\"parameter1\"]))\n",
    "print(\"parameter2 = \" + str(params[\"parameter2\"]))\n",
    "print(\"parameter3 = \" + str(params[\"parameter3\"]))\n",
    "print(\"parameter4 = \" + str(params[\"parameter4\"]))"
   ]
  },
  {
   "cell_type": "markdown",
   "metadata": {},
   "source": [
    "### Control Flow"
   ]
  },
  {
   "cell_type": "code",
   "execution_count": 44,
   "metadata": {
    "collapsed": false,
    "execution": {
     "iopub.execute_input": "2022-07-02T05:04:23.730690Z",
     "iopub.status.busy": "2022-07-02T05:04:23.730690Z",
     "iopub.status.idle": "2022-07-02T05:04:23.744913Z",
     "shell.execute_reply": "2022-07-02T05:04:23.744776Z",
     "shell.execute_reply.started": "2022-07-02T05:04:23.730690Z"
    },
    "jupyter": {
     "outputs_hidden": false
    }
   },
   "outputs": [
    {
     "name": "stdout",
     "output_type": "stream",
     "text": [
      "statement1 and statement2 are False\n"
     ]
    }
   ],
   "source": [
    "statement1 = False\n",
    "statement2 = False\n",
    "\n",
    "if statement1:\n",
    "    print(\"statement1 is True\")\n",
    "elif statement2:\n",
    "    print(\"statement2 is True\")\n",
    "else:\n",
    "    print(\"statement1 and statement2 are False\")"
   ]
  },
  {
   "cell_type": "markdown",
   "metadata": {},
   "source": [
    "### Loops"
   ]
  },
  {
   "cell_type": "code",
   "execution_count": 45,
   "metadata": {
    "collapsed": false,
    "execution": {
     "iopub.execute_input": "2022-07-02T05:04:23.746494Z",
     "iopub.status.busy": "2022-07-02T05:04:23.746220Z",
     "iopub.status.idle": "2022-07-02T05:04:23.760794Z",
     "shell.execute_reply": "2022-07-02T05:04:23.760513Z",
     "shell.execute_reply.started": "2022-07-02T05:04:23.746494Z"
    },
    "jupyter": {
     "outputs_hidden": false
    }
   },
   "outputs": [
    {
     "name": "stdout",
     "output_type": "stream",
     "text": [
      "0\n",
      "1\n",
      "2\n",
      "3\n"
     ]
    }
   ],
   "source": [
    "for x in range(4):\n",
    "    print(x)"
   ]
  },
  {
   "cell_type": "code",
   "execution_count": 46,
   "metadata": {
    "collapsed": false,
    "execution": {
     "iopub.execute_input": "2022-07-02T05:04:23.761803Z",
     "iopub.status.busy": "2022-07-02T05:04:23.761803Z",
     "iopub.status.idle": "2022-07-02T05:04:23.775800Z",
     "shell.execute_reply": "2022-07-02T05:04:23.775800Z",
     "shell.execute_reply.started": "2022-07-02T05:04:23.761803Z"
    },
    "jupyter": {
     "outputs_hidden": false
    }
   },
   "outputs": [
    {
     "name": "stdout",
     "output_type": "stream",
     "text": [
      "scientific\n",
      "computing\n",
      "with\n",
      "python\n"
     ]
    }
   ],
   "source": [
    "for word in [\"scientific\", \"computing\", \"with\", \"python\"]:\n",
    "    print(word)"
   ]
  },
  {
   "cell_type": "code",
   "execution_count": 47,
   "metadata": {
    "collapsed": false,
    "execution": {
     "iopub.execute_input": "2022-07-02T05:04:23.776802Z",
     "iopub.status.busy": "2022-07-02T05:04:23.776802Z",
     "iopub.status.idle": "2022-07-02T05:04:23.791944Z",
     "shell.execute_reply": "2022-07-02T05:04:23.791802Z",
     "shell.execute_reply.started": "2022-07-02T05:04:23.776802Z"
    },
    "jupyter": {
     "outputs_hidden": false
    }
   },
   "outputs": [
    {
     "name": "stdout",
     "output_type": "stream",
     "text": [
      "parameter1 = A\n",
      "parameter2 = B\n",
      "parameter3 = 3.0\n",
      "parameter4 = D\n"
     ]
    }
   ],
   "source": [
    "for key, value in params.items():\n",
    "    print(key + \" = \" + str(value))"
   ]
  },
  {
   "cell_type": "code",
   "execution_count": 48,
   "metadata": {
    "collapsed": false,
    "execution": {
     "iopub.execute_input": "2022-07-02T05:04:23.793010Z",
     "iopub.status.busy": "2022-07-02T05:04:23.793010Z",
     "iopub.status.idle": "2022-07-02T05:04:23.807067Z",
     "shell.execute_reply": "2022-07-02T05:04:23.807067Z",
     "shell.execute_reply.started": "2022-07-02T05:04:23.793010Z"
    },
    "jupyter": {
     "outputs_hidden": false
    }
   },
   "outputs": [
    {
     "name": "stdout",
     "output_type": "stream",
     "text": [
      "0 -3\n",
      "1 -2\n",
      "2 -1\n",
      "3 0\n",
      "4 1\n",
      "5 2\n"
     ]
    }
   ],
   "source": [
    "for idx, x in enumerate(range(-3,3)):\n",
    "    print(idx, x)"
   ]
  },
  {
   "cell_type": "code",
   "execution_count": 49,
   "metadata": {
    "collapsed": false,
    "execution": {
     "iopub.execute_input": "2022-07-02T05:04:23.808112Z",
     "iopub.status.busy": "2022-07-02T05:04:23.808112Z",
     "iopub.status.idle": "2022-07-02T05:04:23.823111Z",
     "shell.execute_reply": "2022-07-02T05:04:23.823111Z",
     "shell.execute_reply.started": "2022-07-02T05:04:23.808112Z"
    },
    "jupyter": {
     "outputs_hidden": false
    }
   },
   "outputs": [
    {
     "name": "stdout",
     "output_type": "stream",
     "text": [
      "[0, 1, 4, 9, 16]\n"
     ]
    }
   ],
   "source": [
    "l1 = [x**2 for x in range(0,5)]\n",
    "print(l1)"
   ]
  },
  {
   "cell_type": "code",
   "execution_count": 50,
   "metadata": {
    "collapsed": false,
    "execution": {
     "iopub.execute_input": "2022-07-02T05:04:23.824112Z",
     "iopub.status.busy": "2022-07-02T05:04:23.824112Z",
     "iopub.status.idle": "2022-07-02T05:04:23.839111Z",
     "shell.execute_reply": "2022-07-02T05:04:23.839111Z",
     "shell.execute_reply.started": "2022-07-02T05:04:23.824112Z"
    },
    "jupyter": {
     "outputs_hidden": false
    }
   },
   "outputs": [
    {
     "name": "stdout",
     "output_type": "stream",
     "text": [
      "0\n",
      "1\n",
      "2\n",
      "3\n",
      "4\n",
      "done\n"
     ]
    }
   ],
   "source": [
    "i = 0\n",
    "while i < 5:\n",
    "    print(i)\n",
    "    i = i + 1\n",
    "print(\"done\")"
   ]
  },
  {
   "cell_type": "markdown",
   "metadata": {},
   "source": [
    "### Functions"
   ]
  },
  {
   "cell_type": "code",
   "execution_count": 51,
   "metadata": {
    "collapsed": false,
    "execution": {
     "iopub.execute_input": "2022-07-02T05:04:23.840111Z",
     "iopub.status.busy": "2022-07-02T05:04:23.840111Z",
     "iopub.status.idle": "2022-07-02T05:04:23.854610Z",
     "shell.execute_reply": "2022-07-02T05:04:23.854209Z",
     "shell.execute_reply.started": "2022-07-02T05:04:23.840111Z"
    },
    "jupyter": {
     "outputs_hidden": false
    }
   },
   "outputs": [],
   "source": [
    "# include a docstring\n",
    "def func(s):\n",
    "    \"\"\"\n",
    "    Print a string 's' and tell how many characters it has    \n",
    "    \"\"\"\n",
    "    \n",
    "    print(s + \" has \" + str(len(s)) + \" characters\")"
   ]
  },
  {
   "cell_type": "code",
   "execution_count": 52,
   "metadata": {
    "collapsed": false,
    "execution": {
     "iopub.execute_input": "2022-07-02T05:04:23.855625Z",
     "iopub.status.busy": "2022-07-02T05:04:23.855625Z",
     "iopub.status.idle": "2022-07-02T05:04:23.869623Z",
     "shell.execute_reply": "2022-07-02T05:04:23.869623Z",
     "shell.execute_reply.started": "2022-07-02T05:04:23.855625Z"
    },
    "jupyter": {
     "outputs_hidden": false
    }
   },
   "outputs": [
    {
     "name": "stdout",
     "output_type": "stream",
     "text": [
      "Help on function func in module __main__:\n",
      "\n",
      "func(s)\n",
      "    Print a string 's' and tell how many characters it has\n",
      "\n"
     ]
    }
   ],
   "source": [
    "help(func)"
   ]
  },
  {
   "cell_type": "code",
   "execution_count": 53,
   "metadata": {
    "collapsed": false,
    "execution": {
     "iopub.execute_input": "2022-07-02T05:04:23.870623Z",
     "iopub.status.busy": "2022-07-02T05:04:23.870623Z",
     "iopub.status.idle": "2022-07-02T05:04:23.885186Z",
     "shell.execute_reply": "2022-07-02T05:04:23.884678Z",
     "shell.execute_reply.started": "2022-07-02T05:04:23.870623Z"
    },
    "jupyter": {
     "outputs_hidden": false
    }
   },
   "outputs": [
    {
     "name": "stdout",
     "output_type": "stream",
     "text": [
      "test has 4 characters\n"
     ]
    }
   ],
   "source": [
    "func(\"test\")"
   ]
  },
  {
   "cell_type": "code",
   "execution_count": 54,
   "metadata": {
    "collapsed": false,
    "execution": {
     "iopub.execute_input": "2022-07-02T05:04:23.886094Z",
     "iopub.status.busy": "2022-07-02T05:04:23.885577Z",
     "iopub.status.idle": "2022-07-02T05:04:23.900247Z",
     "shell.execute_reply": "2022-07-02T05:04:23.900247Z",
     "shell.execute_reply.started": "2022-07-02T05:04:23.886094Z"
    },
    "jupyter": {
     "outputs_hidden": false
    }
   },
   "outputs": [],
   "source": [
    "def square(x):\n",
    "    return x ** 2"
   ]
  },
  {
   "cell_type": "code",
   "execution_count": 55,
   "metadata": {
    "collapsed": false,
    "execution": {
     "iopub.execute_input": "2022-07-02T05:04:23.901255Z",
     "iopub.status.busy": "2022-07-02T05:04:23.901255Z",
     "iopub.status.idle": "2022-07-02T05:04:23.916215Z",
     "shell.execute_reply": "2022-07-02T05:04:23.916215Z",
     "shell.execute_reply.started": "2022-07-02T05:04:23.901255Z"
    },
    "jupyter": {
     "outputs_hidden": false
    }
   },
   "outputs": [
    {
     "data": {
      "text/plain": [
       "9"
      ]
     },
     "execution_count": 55,
     "metadata": {},
     "output_type": "execute_result"
    }
   ],
   "source": [
    "square(3)"
   ]
  },
  {
   "cell_type": "code",
   "execution_count": 56,
   "metadata": {
    "collapsed": false,
    "execution": {
     "iopub.execute_input": "2022-07-02T05:04:23.917216Z",
     "iopub.status.busy": "2022-07-02T05:04:23.917216Z",
     "iopub.status.idle": "2022-07-02T05:04:23.932064Z",
     "shell.execute_reply": "2022-07-02T05:04:23.932064Z",
     "shell.execute_reply.started": "2022-07-02T05:04:23.917216Z"
    },
    "jupyter": {
     "outputs_hidden": false
    }
   },
   "outputs": [],
   "source": [
    "# multiple return values\n",
    "def powers(x):\n",
    "    return x ** 2, x ** 3, x ** 4"
   ]
  },
  {
   "cell_type": "code",
   "execution_count": 57,
   "metadata": {
    "collapsed": false,
    "execution": {
     "iopub.execute_input": "2022-07-02T05:04:23.933065Z",
     "iopub.status.busy": "2022-07-02T05:04:23.933065Z",
     "iopub.status.idle": "2022-07-02T05:04:23.948218Z",
     "shell.execute_reply": "2022-07-02T05:04:23.947800Z",
     "shell.execute_reply.started": "2022-07-02T05:04:23.933065Z"
    },
    "jupyter": {
     "outputs_hidden": false
    }
   },
   "outputs": [
    {
     "data": {
      "text/plain": [
       "(289, 4913, 83521)"
      ]
     },
     "execution_count": 57,
     "metadata": {},
     "output_type": "execute_result"
    }
   ],
   "source": [
    "powers(17)"
   ]
  },
  {
   "cell_type": "code",
   "execution_count": 58,
   "metadata": {
    "collapsed": false,
    "execution": {
     "iopub.execute_input": "2022-07-02T05:04:23.949307Z",
     "iopub.status.busy": "2022-07-02T05:04:23.948218Z",
     "iopub.status.idle": "2022-07-02T05:04:23.963308Z",
     "shell.execute_reply": "2022-07-02T05:04:23.963308Z",
     "shell.execute_reply.started": "2022-07-02T05:04:23.949307Z"
    },
    "jupyter": {
     "outputs_hidden": false
    }
   },
   "outputs": [
    {
     "name": "stdout",
     "output_type": "stream",
     "text": [
      "125\n"
     ]
    }
   ],
   "source": [
    "x2, x3, x4 = powers(5)\n",
    "print(x3)"
   ]
  },
  {
   "cell_type": "code",
   "execution_count": 59,
   "metadata": {
    "execution": {
     "iopub.execute_input": "2022-07-02T05:04:23.964308Z",
     "iopub.status.busy": "2022-07-02T05:04:23.964308Z",
     "iopub.status.idle": "2022-07-02T05:04:23.979309Z",
     "shell.execute_reply": "2022-07-02T05:04:23.978597Z",
     "shell.execute_reply.started": "2022-07-02T05:04:23.964308Z"
    }
   },
   "outputs": [
    {
     "data": {
      "text/plain": [
       "150"
      ]
     },
     "execution_count": 59,
     "metadata": {},
     "output_type": "execute_result"
    }
   ],
   "source": [
    "sum((x2, x3))"
   ]
  },
  {
   "cell_type": "code",
   "execution_count": 60,
   "metadata": {
    "collapsed": false,
    "execution": {
     "iopub.execute_input": "2022-07-02T05:04:23.979538Z",
     "iopub.status.busy": "2022-07-02T05:04:23.979538Z",
     "iopub.status.idle": "2022-07-02T05:04:23.993623Z",
     "shell.execute_reply": "2022-07-02T05:04:23.993623Z",
     "shell.execute_reply.started": "2022-07-02T05:04:23.979538Z"
    },
    "jupyter": {
     "outputs_hidden": false
    }
   },
   "outputs": [
    {
     "data": {
      "text/plain": [
       "25"
      ]
     },
     "execution_count": 60,
     "metadata": {},
     "output_type": "execute_result"
    }
   ],
   "source": [
    "f1 = lambda x: x**2\n",
    "f1(5)"
   ]
  },
  {
   "cell_type": "code",
   "execution_count": 61,
   "metadata": {
    "collapsed": false,
    "execution": {
     "iopub.execute_input": "2022-07-02T05:04:23.994665Z",
     "iopub.status.busy": "2022-07-02T05:04:23.994665Z",
     "iopub.status.idle": "2022-07-02T05:04:24.008665Z",
     "shell.execute_reply": "2022-07-02T05:04:24.008665Z",
     "shell.execute_reply.started": "2022-07-02T05:04:23.994665Z"
    },
    "jupyter": {
     "outputs_hidden": false
    }
   },
   "outputs": [
    {
     "data": {
      "text/plain": [
       "<map at 0x21e910f68f0>"
      ]
     },
     "execution_count": 61,
     "metadata": {},
     "output_type": "execute_result"
    }
   ],
   "source": [
    "map(lambda x: x**2, range(-3,4))"
   ]
  },
  {
   "cell_type": "code",
   "execution_count": 62,
   "metadata": {
    "collapsed": false,
    "execution": {
     "iopub.execute_input": "2022-07-02T05:04:24.009664Z",
     "iopub.status.busy": "2022-07-02T05:04:24.009664Z",
     "iopub.status.idle": "2022-07-02T05:04:24.024662Z",
     "shell.execute_reply": "2022-07-02T05:04:24.024662Z",
     "shell.execute_reply.started": "2022-07-02T05:04:24.009664Z"
    },
    "jupyter": {
     "outputs_hidden": false
    }
   },
   "outputs": [
    {
     "data": {
      "text/plain": [
       "[9, 4, 1, 0, 1, 4, 9]"
      ]
     },
     "execution_count": 62,
     "metadata": {},
     "output_type": "execute_result"
    }
   ],
   "source": [
    "# convert iterator to list\n",
    "list(map(lambda x: x**2, range(-3,4)))"
   ]
  },
  {
   "cell_type": "markdown",
   "metadata": {},
   "source": [
    "### Classes"
   ]
  },
  {
   "cell_type": "code",
   "execution_count": 63,
   "metadata": {
    "collapsed": false,
    "execution": {
     "iopub.execute_input": "2022-07-02T05:04:24.025663Z",
     "iopub.status.busy": "2022-07-02T05:04:24.025663Z",
     "iopub.status.idle": "2022-07-02T05:04:24.040662Z",
     "shell.execute_reply": "2022-07-02T05:04:24.040662Z",
     "shell.execute_reply.started": "2022-07-02T05:04:24.025663Z"
    },
    "jupyter": {
     "outputs_hidden": false
    }
   },
   "outputs": [],
   "source": [
    "class Point:\n",
    "    def __init__(self, x, y):\n",
    "        self.x = x\n",
    "        self.y = y\n",
    "        \n",
    "    def translate(self, dx, dy):\n",
    "        self.x += dx\n",
    "        self.y += dy\n",
    "        \n",
    "    def __str__(self):\n",
    "        return(\"Point at [%f, %f]\" % (self.x, self.y))"
   ]
  },
  {
   "cell_type": "code",
   "execution_count": 64,
   "metadata": {
    "collapsed": false,
    "execution": {
     "iopub.execute_input": "2022-07-02T05:04:24.041663Z",
     "iopub.status.busy": "2022-07-02T05:04:24.041663Z",
     "iopub.status.idle": "2022-07-02T05:04:24.056138Z",
     "shell.execute_reply": "2022-07-02T05:04:24.056138Z",
     "shell.execute_reply.started": "2022-07-02T05:04:24.041663Z"
    },
    "jupyter": {
     "outputs_hidden": false
    }
   },
   "outputs": [
    {
     "name": "stdout",
     "output_type": "stream",
     "text": [
      "Point at [0.000000, 0.000000]\n"
     ]
    }
   ],
   "source": [
    "p1 = Point(0, 0)\n",
    "print(p1)"
   ]
  },
  {
   "cell_type": "code",
   "execution_count": 65,
   "metadata": {
    "collapsed": false,
    "execution": {
     "iopub.execute_input": "2022-07-02T05:04:24.057198Z",
     "iopub.status.busy": "2022-07-02T05:04:24.057198Z",
     "iopub.status.idle": "2022-07-02T05:04:24.071436Z",
     "shell.execute_reply": "2022-07-02T05:04:24.071252Z",
     "shell.execute_reply.started": "2022-07-02T05:04:24.057198Z"
    },
    "jupyter": {
     "outputs_hidden": false
    }
   },
   "outputs": [
    {
     "name": "stdout",
     "output_type": "stream",
     "text": [
      "Point at [0.250000, 1.500000]\n",
      "Point at [1.000000, 1.000000]\n"
     ]
    }
   ],
   "source": [
    "p2 = Point(1, 1)\n",
    "\n",
    "p1.translate(0.25, 1.5)\n",
    "\n",
    "print(p1)\n",
    "print(p2)"
   ]
  },
  {
   "cell_type": "markdown",
   "metadata": {},
   "source": [
    "### Exceptions"
   ]
  },
  {
   "cell_type": "code",
   "execution_count": 66,
   "metadata": {
    "collapsed": false,
    "execution": {
     "iopub.execute_input": "2022-07-02T05:04:24.072568Z",
     "iopub.status.busy": "2022-07-02T05:04:24.072568Z",
     "iopub.status.idle": "2022-07-02T05:04:24.086621Z",
     "shell.execute_reply": "2022-07-02T05:04:24.086621Z",
     "shell.execute_reply.started": "2022-07-02T05:04:24.072568Z"
    },
    "jupyter": {
     "outputs_hidden": false
    }
   },
   "outputs": [
    {
     "ename": "SyntaxError",
     "evalue": "unterminated string literal (detected at line 2) (4035871198.py, line 2)",
     "output_type": "error",
     "traceback": [
      "\u001b[1;36m  Input \u001b[1;32mIn [66]\u001b[1;36m\u001b[0m\n\u001b[1;33m    print(')\u001b[0m\n\u001b[1;37m          ^\u001b[0m\n\u001b[1;31mSyntaxError\u001b[0m\u001b[1;31m:\u001b[0m unterminated string literal (detected at line 2)\n"
     ]
    }
   ],
   "source": [
    "try:\n",
    "    print(')\n",
    "except:\n",
    "    print(\"Caught an expection\")"
   ]
  },
  {
   "cell_type": "code",
   "execution_count": 67,
   "metadata": {
    "collapsed": false,
    "execution": {
     "iopub.execute_input": "2022-07-02T05:04:40.523621Z",
     "iopub.status.busy": "2022-07-02T05:04:40.523621Z",
     "iopub.status.idle": "2022-07-02T05:04:40.533226Z",
     "shell.execute_reply": "2022-07-02T05:04:40.532618Z",
     "shell.execute_reply.started": "2022-07-02T05:04:40.523621Z"
    },
    "jupyter": {
     "outputs_hidden": false
    },
    "tags": []
   },
   "outputs": [
    {
     "name": "stdout",
     "output_type": "stream",
     "text": [
      "Caught an exception: name 'test' is not defined\n"
     ]
    }
   ],
   "source": [
    "try:\n",
    "    print(test)\n",
    "except Exception as e:\n",
    "    print(\"Caught an exception: \" + str(e))"
   ]
  },
  {
   "cell_type": "code",
   "execution_count": null,
   "metadata": {},
   "outputs": [],
   "source": []
  }
 ],
 "metadata": {
  "kernelspec": {
   "display_name": "Python 3 (ipykernel)",
   "language": "python",
   "name": "python3"
  },
  "language_info": {
   "codemirror_mode": {
    "name": "ipython",
    "version": 3
   },
   "file_extension": ".py",
   "mimetype": "text/x-python",
   "name": "python",
   "nbconvert_exporter": "python",
   "pygments_lexer": "ipython3",
   "version": "3.10.5"
  }
 },
 "nbformat": 4,
 "nbformat_minor": 4
}
